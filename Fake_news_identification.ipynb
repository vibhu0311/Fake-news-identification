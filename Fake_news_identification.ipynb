{
 "cells": [
  {
   "cell_type": "markdown",
   "id": "de35e3b3-9d56-470d-9acf-a2fd04e21adc",
   "metadata": {},
   "source": [
    "<h1 align = \"center\" style=\"font-size:60px;\">\n",
    "Fake News Detection\n",
    "</h1>\n",
    "\n",
    "<center><img src=\"img.jpg\" alt=\"FakeNewsImage\"></center>\n",
    "\n"
   ]
  },
  {
   "cell_type": "markdown",
   "id": "6789c3c5-1778-4756-9ce5-d29463f59129",
   "metadata": {
    "tags": []
   },
   "source": [
    "## Importing libraries"
   ]
  },
  {
   "cell_type": "code",
   "execution_count": 39,
   "id": "8526b3f3-7682-4332-a59d-9d40dd16dfa2",
   "metadata": {},
   "outputs": [],
   "source": [
    "#importing libraries\n",
    "import pandas as pd\n",
    "import numpy as np\n",
    "import matplotlib.pyplot as plt\n",
    "import seaborn as sns\n",
    "from time import perf_counter\n",
    "tick = perf_counter()\n",
    "\n",
    "import re\n",
    "import nltk\n",
    "from nltk.corpus import stopwords\n",
    "from nltk.stem.porter import PorterStemmer\n",
    "\n",
    "from sklearn.feature_extraction.text import TfidfVectorizer\n",
    "from sklearn.model_selection import train_test_split\n",
    "from sklearn.linear_model import LogisticRegression\n",
    "from sklearn.metrics import accuracy_score\n",
    "from nltk.stem.porter import PorterStemmer\n",
    "from sklearn.metrics import confusion_matrix, ConfusionMatrixDisplay\n",
    "from sklearn.metrics import classification_report"
   ]
  },
  {
   "cell_type": "markdown",
   "id": "e34cbb6e-cc14-46af-b8fe-cda7ea0e0e49",
   "metadata": {
    "tags": []
   },
   "source": [
    "## Data loading, pre-processing and EDA"
   ]
  },
  {
   "cell_type": "code",
   "execution_count": 40,
   "id": "8370f92c-a4c7-47b4-acad-1742d951dc29",
   "metadata": {},
   "outputs": [],
   "source": [
    "#loading data\n",
    "path_train = r'train\\train.csv'\n",
    "df = pd.read_csv(path_train)"
   ]
  },
  {
   "cell_type": "code",
   "execution_count": 41,
   "id": "70ddf975-cd3b-40ab-82a7-9739193dcb83",
   "metadata": {},
   "outputs": [
    {
     "data": {
      "text/html": [
       "<div>\n",
       "<style scoped>\n",
       "    .dataframe tbody tr th:only-of-type {\n",
       "        vertical-align: middle;\n",
       "    }\n",
       "\n",
       "    .dataframe tbody tr th {\n",
       "        vertical-align: top;\n",
       "    }\n",
       "\n",
       "    .dataframe thead th {\n",
       "        text-align: right;\n",
       "    }\n",
       "</style>\n",
       "<table border=\"1\" class=\"dataframe\">\n",
       "  <thead>\n",
       "    <tr style=\"text-align: right;\">\n",
       "      <th></th>\n",
       "      <th>id</th>\n",
       "      <th>title</th>\n",
       "      <th>author</th>\n",
       "      <th>text</th>\n",
       "      <th>label</th>\n",
       "    </tr>\n",
       "  </thead>\n",
       "  <tbody>\n",
       "    <tr>\n",
       "      <th>0</th>\n",
       "      <td>0</td>\n",
       "      <td>House Dem Aide: We Didn’t Even See Comey’s Let...</td>\n",
       "      <td>Darrell Lucus</td>\n",
       "      <td>House Dem Aide: We Didn’t Even See Comey’s Let...</td>\n",
       "      <td>1</td>\n",
       "    </tr>\n",
       "    <tr>\n",
       "      <th>1</th>\n",
       "      <td>1</td>\n",
       "      <td>FLYNN: Hillary Clinton, Big Woman on Campus - ...</td>\n",
       "      <td>Daniel J. Flynn</td>\n",
       "      <td>Ever get the feeling your life circles the rou...</td>\n",
       "      <td>0</td>\n",
       "    </tr>\n",
       "    <tr>\n",
       "      <th>2</th>\n",
       "      <td>2</td>\n",
       "      <td>Why the Truth Might Get You Fired</td>\n",
       "      <td>Consortiumnews.com</td>\n",
       "      <td>Why the Truth Might Get You Fired October 29, ...</td>\n",
       "      <td>1</td>\n",
       "    </tr>\n",
       "    <tr>\n",
       "      <th>3</th>\n",
       "      <td>3</td>\n",
       "      <td>15 Civilians Killed In Single US Airstrike Hav...</td>\n",
       "      <td>Jessica Purkiss</td>\n",
       "      <td>Videos 15 Civilians Killed In Single US Airstr...</td>\n",
       "      <td>1</td>\n",
       "    </tr>\n",
       "    <tr>\n",
       "      <th>4</th>\n",
       "      <td>4</td>\n",
       "      <td>Iranian woman jailed for fictional unpublished...</td>\n",
       "      <td>Howard Portnoy</td>\n",
       "      <td>Print \\nAn Iranian woman has been sentenced to...</td>\n",
       "      <td>1</td>\n",
       "    </tr>\n",
       "  </tbody>\n",
       "</table>\n",
       "</div>"
      ],
      "text/plain": [
       "   id                                              title              author  \\\n",
       "0   0  House Dem Aide: We Didn’t Even See Comey’s Let...       Darrell Lucus   \n",
       "1   1  FLYNN: Hillary Clinton, Big Woman on Campus - ...     Daniel J. Flynn   \n",
       "2   2                  Why the Truth Might Get You Fired  Consortiumnews.com   \n",
       "3   3  15 Civilians Killed In Single US Airstrike Hav...     Jessica Purkiss   \n",
       "4   4  Iranian woman jailed for fictional unpublished...      Howard Portnoy   \n",
       "\n",
       "                                                text  label  \n",
       "0  House Dem Aide: We Didn’t Even See Comey’s Let...      1  \n",
       "1  Ever get the feeling your life circles the rou...      0  \n",
       "2  Why the Truth Might Get You Fired October 29, ...      1  \n",
       "3  Videos 15 Civilians Killed In Single US Airstr...      1  \n",
       "4  Print \\nAn Iranian woman has been sentenced to...      1  "
      ]
     },
     "execution_count": 41,
     "metadata": {},
     "output_type": "execute_result"
    }
   ],
   "source": [
    "#checking data\n",
    "df.head()"
   ]
  },
  {
   "cell_type": "code",
   "execution_count": 42,
   "id": "36dd5fdd-d6c1-4960-9a3a-f51ae686d14f",
   "metadata": {},
   "outputs": [
    {
     "data": {
      "text/plain": [
       "'House Dem Aide: We Didn’t Even See Comey’s Letter Until Jason Chaffetz Tweeted It'"
      ]
     },
     "execution_count": 42,
     "metadata": {},
     "output_type": "execute_result"
    }
   ],
   "source": [
    "#checking a typical title\n",
    "df.title[0]"
   ]
  },
  {
   "cell_type": "code",
   "execution_count": 43,
   "id": "2965d45e-9795-418a-888f-23e303662bca",
   "metadata": {},
   "outputs": [
    {
     "data": {
      "text/plain": [
       "'House Dem Aide: We Didn’t Even See Comey’s Letter Until Jason Chaffetz Tweeted It By Darrell Lucus on October 30, 2016 Subscribe Jason Chaffetz on the stump in American Fork, Utah ( image courtesy Michael Jolley, available under a Creative Commons-BY license) \\nWith apologies to Keith Olbermann, there is no doubt who the Worst Person in The World is this week–FBI Director James Comey. But according to a House Democratic aide, it looks like we also know who the second-worst person is as well. It turns out that when Comey sent his now-infamous letter announcing that the FBI was looking into emails that may be related to Hillary Clinton’s email server, the ranking Democrats on the relevant committees didn’t hear about it from Comey. They found out via a tweet from one of the Republican committee chairmen. \\nAs we now know, Comey notified the Republican chairmen and Democratic ranking members of the House Intelligence, Judiciary, and Oversight committees that his agency was reviewing emails it had recently discovered in order to see if they contained classified information. Not long after this letter went out, Oversight Committee Chairman Jason Chaffetz set the political world ablaze with this tweet. FBI Dir just informed me, \"The FBI has learned of the existence of emails that appear to be pertinent to the investigation.\" Case reopened \\n— Jason Chaffetz (@jasoninthehouse) October 28, 2016 \\nOf course, we now know that this was not the case . Comey was actually saying that it was reviewing the emails in light of “an unrelated case”–which we now know to be Anthony Weiner’s sexting with a teenager. But apparently such little things as facts didn’t matter to Chaffetz. The Utah Republican had already vowed to initiate a raft of investigations if Hillary wins–at least two years’ worth, and possibly an entire term’s worth of them. Apparently Chaffetz thought the FBI was already doing his work for him–resulting in a tweet that briefly roiled the nation before cooler heads realized it was a dud. \\nBut according to a senior House Democratic aide, misreading that letter may have been the least of Chaffetz’ sins. That aide told Shareblue that his boss and other Democrats didn’t even know about Comey’s letter at the time–and only found out when they checked Twitter. “Democratic Ranking Members on the relevant committees didn’t receive Comey’s letter until after the Republican Chairmen. In fact, the Democratic Ranking Members didn’ receive it until after the Chairman of the Oversight and Government Reform Committee, Jason Chaffetz, tweeted it out and made it public.” \\nSo let’s see if we’ve got this right. The FBI director tells Chaffetz and other GOP committee chairmen about a major development in a potentially politically explosive investigation, and neither Chaffetz nor his other colleagues had the courtesy to let their Democratic counterparts know about it. Instead, according to this aide, he made them find out about it on Twitter. \\nThere has already been talk on Daily Kos that Comey himself provided advance notice of this letter to Chaffetz and other Republicans, giving them time to turn on the spin machine. That may make for good theater, but there is nothing so far that even suggests this is the case. After all, there is nothing so far that suggests that Comey was anything other than grossly incompetent and tone-deaf. \\nWhat it does suggest, however, is that Chaffetz is acting in a way that makes Dan Burton and Darrell Issa look like models of responsibility and bipartisanship. He didn’t even have the decency to notify ranking member Elijah Cummings about something this explosive. If that doesn’t trample on basic standards of fairness, I don’t know what does. \\nGranted, it’s not likely that Chaffetz will have to answer for this. He sits in a ridiculously Republican district anchored in Provo and Orem; it has a Cook Partisan Voting Index of R+25, and gave Mitt Romney a punishing 78 percent of the vote in 2012. Moreover, the Republican House leadership has given its full support to Chaffetz’ planned fishing expedition. But that doesn’t mean we can’t turn the hot lights on him. After all, he is a textbook example of what the House has become under Republican control. And he is also the Second Worst Person in the World. About Darrell Lucus \\nDarrell is a 30-something graduate of the University of North Carolina who considers himself a journalist of the old school. An attempt to turn him into a member of the religious right in college only succeeded in turning him into the religious right\\'s worst nightmare--a charismatic Christian who is an unapologetic liberal. His desire to stand up for those who have been scared into silence only increased when he survived an abusive three-year marriage. You may know him on Daily Kos as Christian Dem in NC . Follow him on Twitter @DarrellLucus or connect with him on Facebook . Click here to buy Darrell a Mello Yello. Connect'"
      ]
     },
     "execution_count": 43,
     "metadata": {},
     "output_type": "execute_result"
    }
   ],
   "source": [
    "#checking a typical text\n",
    "df.text[0]"
   ]
  },
  {
   "cell_type": "code",
   "execution_count": 44,
   "id": "028e6953-ac10-4dea-83b9-513f121ded31",
   "metadata": {},
   "outputs": [
    {
     "data": {
      "text/plain": [
       "(20800, 5)"
      ]
     },
     "execution_count": 44,
     "metadata": {},
     "output_type": "execute_result"
    }
   ],
   "source": [
    "#checking shape of data\n",
    "df.shape"
   ]
  },
  {
   "cell_type": "code",
   "execution_count": 45,
   "id": "b921bf02-54b0-49da-8807-0448cbead772",
   "metadata": {},
   "outputs": [
    {
     "data": {
      "text/plain": [
       "id           0\n",
       "title      558\n",
       "author    1957\n",
       "text        39\n",
       "label        0\n",
       "dtype: int64"
      ]
     },
     "execution_count": 45,
     "metadata": {},
     "output_type": "execute_result"
    }
   ],
   "source": [
    "#checking missing values\n",
    "df.isna().sum()"
   ]
  },
  {
   "cell_type": "code",
   "execution_count": 46,
   "id": "1ec1d164-126f-4d86-b885-93cc31641d0c",
   "metadata": {},
   "outputs": [],
   "source": [
    "#filling missing values with empty string\n",
    "df = df.fillna(\"\")"
   ]
  },
  {
   "cell_type": "code",
   "execution_count": 47,
   "id": "d4947395-644d-46f2-a28d-5b87031aebc6",
   "metadata": {},
   "outputs": [
    {
     "data": {
      "text/plain": [
       "id        0\n",
       "title     0\n",
       "author    0\n",
       "text      0\n",
       "label     0\n",
       "dtype: int64"
      ]
     },
     "execution_count": 47,
     "metadata": {},
     "output_type": "execute_result"
    }
   ],
   "source": [
    "#again looking if there are any missing values that remain\n",
    "df.isna().sum()"
   ]
  },
  {
   "cell_type": "code",
   "execution_count": 48,
   "id": "b39211d0-e03c-46f4-b66a-fabf57511334",
   "metadata": {},
   "outputs": [],
   "source": [
    "#merging author name and news title\n",
    "df[\"content\"] = df['author'] + ' ' + df['title']"
   ]
  },
  {
   "cell_type": "code",
   "execution_count": 49,
   "id": "d86a8ead-6b37-4446-8417-2d07ef1ee1b3",
   "metadata": {},
   "outputs": [
    {
     "data": {
      "text/plain": [
       "1    10413\n",
       "0    10387\n",
       "Name: label, dtype: int64"
      ]
     },
     "execution_count": 49,
     "metadata": {},
     "output_type": "execute_result"
    }
   ],
   "source": [
    "#checking count of lables\n",
    "df['label'].value_counts()"
   ]
  },
  {
   "cell_type": "code",
   "execution_count": 50,
   "id": "fe1988c3-aeb1-435a-94c6-e8a8d1e6305d",
   "metadata": {},
   "outputs": [],
   "source": [
    "#importing porter stemmer\n",
    "port_stem = PorterStemmer()"
   ]
  },
  {
   "cell_type": "code",
   "execution_count": 51,
   "id": "a9abc7c6-f0ad-4cd4-9996-64fa48f50691",
   "metadata": {},
   "outputs": [],
   "source": [
    "#processing \"content\" column of data\n",
    "def stemming(content):\n",
    "    review = re.sub('[^a-zA-Z]',' ',content)\n",
    "    review = review.lower()\n",
    "    review = review.split()\n",
    "    review = [port_stem.stem(word) for word in review if not word in stopwords.words('english')]\n",
    "    review = ' '.join(review)\n",
    "    return review"
   ]
  },
  {
   "cell_type": "code",
   "execution_count": 52,
   "id": "69417e96-0525-416d-8d4e-51fb6e80440d",
   "metadata": {},
   "outputs": [],
   "source": [
    "#calling stemming function on \"content\" column\n",
    "df['content'] = df['content'].apply(stemming)"
   ]
  },
  {
   "cell_type": "markdown",
   "id": "edb38063-5c02-45ec-a23f-a34c8568a7ec",
   "metadata": {},
   "source": [
    "## Preparing data for Model building"
   ]
  },
  {
   "cell_type": "code",
   "execution_count": 53,
   "id": "65bf208e-8a42-4a7f-8f6c-76205a24e1b0",
   "metadata": {},
   "outputs": [],
   "source": [
    "#separating data and label\n",
    "X = df['content']\n",
    "y = df[\"label\"]"
   ]
  },
  {
   "cell_type": "code",
   "execution_count": 54,
   "id": "72f506a9-a590-4959-b3e2-26bbfbe96a66",
   "metadata": {},
   "outputs": [
    {
     "data": {
      "text/plain": [
       "(20800,)"
      ]
     },
     "execution_count": 54,
     "metadata": {},
     "output_type": "execute_result"
    }
   ],
   "source": [
    "#checkig shape of X\n",
    "X.shape"
   ]
  },
  {
   "cell_type": "code",
   "execution_count": 55,
   "id": "8543e00a-d714-44d4-b6c7-a61713db4c66",
   "metadata": {},
   "outputs": [
    {
     "data": {
      "text/plain": [
       "(20800,)"
      ]
     },
     "execution_count": 55,
     "metadata": {},
     "output_type": "execute_result"
    }
   ],
   "source": [
    "#checking shape of y\n",
    "y.shape"
   ]
  },
  {
   "cell_type": "code",
   "execution_count": 56,
   "id": "00d4f284-be0a-47bf-8eb9-ef5455fbd16f",
   "metadata": {},
   "outputs": [],
   "source": [
    "#splitting data into test and train\n",
    "X_train, X_test, y_train, y_test = train_test_split(X, y, test_size = 0.2, stratify=y, random_state=2)"
   ]
  },
  {
   "cell_type": "code",
   "execution_count": 57,
   "id": "c5fb1721-88a6-47f7-9323-01bb043185ac",
   "metadata": {},
   "outputs": [
    {
     "data": {
      "text/plain": [
       "(16640,)"
      ]
     },
     "execution_count": 57,
     "metadata": {},
     "output_type": "execute_result"
    }
   ],
   "source": [
    "#chekcing shape of train data\n",
    "X_train.shape"
   ]
  },
  {
   "cell_type": "code",
   "execution_count": 58,
   "id": "c8244109-22fd-4c2e-9bc0-cfa5ffea8857",
   "metadata": {},
   "outputs": [
    {
     "data": {
      "text/plain": [
       "(4160,)"
      ]
     },
     "execution_count": 58,
     "metadata": {},
     "output_type": "execute_result"
    }
   ],
   "source": [
    "#chekcing shape of test data\n",
    "X_test.shape"
   ]
  },
  {
   "cell_type": "code",
   "execution_count": 59,
   "id": "9fd996ef-7f8c-4198-8903-61e19d3dc93d",
   "metadata": {},
   "outputs": [],
   "source": [
    "# converting the textual data to numerical data using tf-idf model\n",
    "vectorizer = TfidfVectorizer(max_features = 5000)\n",
    "X_train = vectorizer.fit_transform(X_train)\n",
    "X_test = vectorizer.transform(X_test)"
   ]
  },
  {
   "cell_type": "code",
   "execution_count": 60,
   "id": "2267c0be-6fbf-4945-88d0-16f18e8b2de0",
   "metadata": {},
   "outputs": [
    {
     "data": {
      "text/plain": [
       "array(['aaron', 'ab', 'abandon', ..., 'zu', 'zuckerberg', 'zuess'],\n",
       "      dtype=object)"
      ]
     },
     "execution_count": 60,
     "metadata": {},
     "output_type": "execute_result"
    }
   ],
   "source": [
    "#looking at  features names in tf-idf model\n",
    "vectorizer.get_feature_names_out()"
   ]
  },
  {
   "cell_type": "code",
   "execution_count": 61,
   "id": "264d3702-6d6c-49f9-aa7f-6b7644183e0c",
   "metadata": {},
   "outputs": [
    {
     "data": {
      "text/plain": [
       "(16640, 5000)"
      ]
     },
     "execution_count": 61,
     "metadata": {},
     "output_type": "execute_result"
    }
   ],
   "source": [
    "#making df of vectorized train data\n",
    "train_df = pd.DataFrame(X_train.toarray(), columns = vectorizer.get_feature_names_out())\n",
    "train_df.shape"
   ]
  },
  {
   "cell_type": "code",
   "execution_count": 62,
   "id": "f625c1f0-dbed-4120-b96a-725092871952",
   "metadata": {},
   "outputs": [
    {
     "data": {
      "text/plain": [
       "(4160, 5000)"
      ]
     },
     "execution_count": 62,
     "metadata": {},
     "output_type": "execute_result"
    }
   ],
   "source": [
    "#making df of vectorized train data\n",
    "test_df = pd.DataFrame(X_test.toarray(), columns = vectorizer.get_feature_names_out())\n",
    "test_df.shape"
   ]
  },
  {
   "cell_type": "markdown",
   "id": "b80803f4-7589-464f-9b45-7baeb470edf2",
   "metadata": {},
   "source": [
    "## Model Building and Analysis"
   ]
  },
  {
   "cell_type": "code",
   "execution_count": 63,
   "id": "fb5a42e1-3740-4685-8a10-9792c9441682",
   "metadata": {},
   "outputs": [],
   "source": [
    "#importing multiple models\n",
    "from sklearn.linear_model import LogisticRegression\n",
    "from sklearn.neighbors import KNeighborsClassifier\n",
    "from sklearn.svm import SVC\n",
    "from sklearn.ensemble import RandomForestClassifier\n",
    "from sklearn.naive_bayes import MultinomialNB\n",
    "from xgboost import XGBClassifier\n",
    "from sklearn import model_selection\n",
    "from sklearn.utils import class_weight\n",
    "from sklearn.metrics import classification_report\n",
    "from sklearn.metrics import confusion_matrix\n",
    "import numpy as np\n",
    "import pandas as pd\n",
    "\n",
    "#function to build models one by one and store their results simultaneously\n",
    "def run_exps(X_train: pd.DataFrame , y_train: pd.DataFrame, X_test: pd.DataFrame, y_test: pd.DataFrame) -> pd.DataFrame:\n",
    "    \"\"\"\n",
    "    Lightweight script to test many models and find winners.\n",
    "        Parameters:\n",
    "            X_train: training split\n",
    "            y_train: training target vector\n",
    "            X_test: test split\n",
    "            y_test: test target vector\n",
    "        Return:\n",
    "            DataFrame of predictions\n",
    "    \"\"\"\n",
    "    \n",
    "    dfs = []\n",
    "    models = [\n",
    "          ('LogReg', LogisticRegression()), \n",
    "          ('RF', RandomForestClassifier()),\n",
    "          ('KNN', KNeighborsClassifier()),\n",
    "          ('SVM', SVC()), \n",
    "          ('MNB', MultinomialNB()),\n",
    "          ('XGB', XGBClassifier())\n",
    "        ]\n",
    "    results = []\n",
    "    names = []\n",
    "    # scoring = ['accuracy', 'precision_macro', 'recall_macro', 'f1_macro', 'roc_auc']\n",
    "    # target_names = ['unreliable', 'reliable']\n",
    "    for name, model in models:\n",
    "        kfold = model_selection.KFold(n_splits=5, shuffle=True, random_state=90210)\n",
    "        cv_results = model_selection.cross_validate(model, X_train, y_train, cv=kfold, scoring=\"accuracy\", \n",
    "                                                    return_train_score = False, return_estimator = False)\n",
    "        clf = model.fit(X_train, y_train)\n",
    "        y_pred = clf.predict(X_test)\n",
    "        print(name)\n",
    "        print(classification_report(y_test, y_pred))\n",
    "        results.append(cv_results)\n",
    "        names.append(name)\n",
    "        this_df = pd.DataFrame(cv_results)\n",
    "        this_df['model'] = name\n",
    "        dfs.append(this_df)\n",
    "    final = pd.concat(dfs, ignore_index=True)\n",
    "    return final"
   ]
  },
  {
   "cell_type": "code",
   "execution_count": 64,
   "id": "e780979d-fede-4899-8425-000ee5388ac7",
   "metadata": {},
   "outputs": [
    {
     "name": "stdout",
     "output_type": "stream",
     "text": [
      "LogReg\n",
      "              precision    recall  f1-score   support\n",
      "\n",
      "           0       0.99      0.97      0.98      2077\n",
      "           1       0.97      0.99      0.98      2083\n",
      "\n",
      "    accuracy                           0.98      4160\n",
      "   macro avg       0.98      0.98      0.98      4160\n",
      "weighted avg       0.98      0.98      0.98      4160\n",
      "\n",
      "RF\n",
      "              precision    recall  f1-score   support\n",
      "\n",
      "           0       1.00      0.99      0.99      2077\n",
      "           1       0.99      1.00      0.99      2083\n",
      "\n",
      "    accuracy                           0.99      4160\n",
      "   macro avg       0.99      0.99      0.99      4160\n",
      "weighted avg       0.99      0.99      0.99      4160\n",
      "\n",
      "KNN\n",
      "              precision    recall  f1-score   support\n",
      "\n",
      "           0       1.00      0.10      0.18      2077\n",
      "           1       0.53      1.00      0.69      2083\n",
      "\n",
      "    accuracy                           0.55      4160\n",
      "   macro avg       0.76      0.55      0.43      4160\n",
      "weighted avg       0.76      0.55      0.43      4160\n",
      "\n",
      "SVM\n",
      "              precision    recall  f1-score   support\n",
      "\n",
      "           0       0.99      0.99      0.99      2077\n",
      "           1       0.99      0.99      0.99      2083\n",
      "\n",
      "    accuracy                           0.99      4160\n",
      "   macro avg       0.99      0.99      0.99      4160\n",
      "weighted avg       0.99      0.99      0.99      4160\n",
      "\n",
      "MNB\n",
      "              precision    recall  f1-score   support\n",
      "\n",
      "           0       0.92      0.99      0.95      2077\n",
      "           1       0.99      0.92      0.95      2083\n",
      "\n",
      "    accuracy                           0.95      4160\n",
      "   macro avg       0.96      0.95      0.95      4160\n",
      "weighted avg       0.96      0.95      0.95      4160\n",
      "\n",
      "XGB\n",
      "              precision    recall  f1-score   support\n",
      "\n",
      "           0       0.99      0.99      0.99      2077\n",
      "           1       0.99      0.99      0.99      2083\n",
      "\n",
      "    accuracy                           0.99      4160\n",
      "   macro avg       0.99      0.99      0.99      4160\n",
      "weighted avg       0.99      0.99      0.99      4160\n",
      "\n"
     ]
    }
   ],
   "source": [
    "#dataframe with all the results of all models\n",
    "final_df = run_exps(X_train, y_train, X_test, y_test)"
   ]
  },
  {
   "cell_type": "markdown",
   "id": "0a1f7c11-93c6-4428-8fba-1bd30758c4b4",
   "metadata": {},
   "source": [
    "## Analysing Models"
   ]
  },
  {
   "cell_type": "code",
   "execution_count": 65,
   "id": "bb8c7bfd-5ad9-4e89-a164-680640cdbadc",
   "metadata": {},
   "outputs": [
    {
     "data": {
      "text/plain": [
       "(30, 4)"
      ]
     },
     "execution_count": 65,
     "metadata": {},
     "output_type": "execute_result"
    }
   ],
   "source": [
    "#checking shape\n",
    "final_df.shape"
   ]
  },
  {
   "cell_type": "code",
   "execution_count": 66,
   "id": "03cc0035-127d-46b6-a445-440cb870afdb",
   "metadata": {},
   "outputs": [],
   "source": [
    "#using sampling in the results of model metrics to allow for comparison based on boxplots later on\n",
    "bootstraps = []\n",
    "for model in list(set(final_df.model.values)):\n",
    "    model_df = final_df.loc[final_df.model == model]\n",
    "    # print(model_df)\n",
    "    bootstrap = model_df.sample(n=30, replace=True)\n",
    "    bootstraps.append(bootstrap)"
   ]
  },
  {
   "cell_type": "code",
   "execution_count": 67,
   "id": "9fadb82d-4eba-442e-9a4a-5a1e03d61f17",
   "metadata": {},
   "outputs": [],
   "source": [
    "#concatening samples results for different models\n",
    "bootstrap_df = pd.concat(bootstraps, ignore_index=True)"
   ]
  },
  {
   "cell_type": "code",
   "execution_count": 68,
   "id": "26cc30f7-4863-422f-a66e-29716130c735",
   "metadata": {},
   "outputs": [
    {
     "data": {
      "text/html": [
       "<div>\n",
       "<style scoped>\n",
       "    .dataframe tbody tr th:only-of-type {\n",
       "        vertical-align: middle;\n",
       "    }\n",
       "\n",
       "    .dataframe tbody tr th {\n",
       "        vertical-align: top;\n",
       "    }\n",
       "\n",
       "    .dataframe thead th {\n",
       "        text-align: right;\n",
       "    }\n",
       "</style>\n",
       "<table border=\"1\" class=\"dataframe\">\n",
       "  <thead>\n",
       "    <tr style=\"text-align: right;\">\n",
       "      <th></th>\n",
       "      <th>fit_time</th>\n",
       "      <th>score_time</th>\n",
       "      <th>test_score</th>\n",
       "      <th>model</th>\n",
       "    </tr>\n",
       "  </thead>\n",
       "  <tbody>\n",
       "    <tr>\n",
       "      <th>0</th>\n",
       "      <td>30.627971</td>\n",
       "      <td>2.487172</td>\n",
       "      <td>0.990084</td>\n",
       "      <td>SVM</td>\n",
       "    </tr>\n",
       "    <tr>\n",
       "      <th>1</th>\n",
       "      <td>30.627971</td>\n",
       "      <td>2.487172</td>\n",
       "      <td>0.990084</td>\n",
       "      <td>SVM</td>\n",
       "    </tr>\n",
       "    <tr>\n",
       "      <th>2</th>\n",
       "      <td>34.594054</td>\n",
       "      <td>2.659682</td>\n",
       "      <td>0.984675</td>\n",
       "      <td>SVM</td>\n",
       "    </tr>\n",
       "    <tr>\n",
       "      <th>3</th>\n",
       "      <td>35.928166</td>\n",
       "      <td>2.448558</td>\n",
       "      <td>0.988281</td>\n",
       "      <td>SVM</td>\n",
       "    </tr>\n",
       "    <tr>\n",
       "      <th>4</th>\n",
       "      <td>35.928166</td>\n",
       "      <td>2.448558</td>\n",
       "      <td>0.988281</td>\n",
       "      <td>SVM</td>\n",
       "    </tr>\n",
       "    <tr>\n",
       "      <th>...</th>\n",
       "      <td>...</td>\n",
       "      <td>...</td>\n",
       "      <td>...</td>\n",
       "      <td>...</td>\n",
       "    </tr>\n",
       "    <tr>\n",
       "      <th>175</th>\n",
       "      <td>0.000000</td>\n",
       "      <td>0.000000</td>\n",
       "      <td>0.952524</td>\n",
       "      <td>MNB</td>\n",
       "    </tr>\n",
       "    <tr>\n",
       "      <th>176</th>\n",
       "      <td>0.007133</td>\n",
       "      <td>0.000000</td>\n",
       "      <td>0.937500</td>\n",
       "      <td>MNB</td>\n",
       "    </tr>\n",
       "    <tr>\n",
       "      <th>177</th>\n",
       "      <td>0.000000</td>\n",
       "      <td>0.000000</td>\n",
       "      <td>0.954026</td>\n",
       "      <td>MNB</td>\n",
       "    </tr>\n",
       "    <tr>\n",
       "      <th>178</th>\n",
       "      <td>0.000000</td>\n",
       "      <td>0.000000</td>\n",
       "      <td>0.952524</td>\n",
       "      <td>MNB</td>\n",
       "    </tr>\n",
       "    <tr>\n",
       "      <th>179</th>\n",
       "      <td>0.007051</td>\n",
       "      <td>0.000000</td>\n",
       "      <td>0.960938</td>\n",
       "      <td>MNB</td>\n",
       "    </tr>\n",
       "  </tbody>\n",
       "</table>\n",
       "<p>180 rows × 4 columns</p>\n",
       "</div>"
      ],
      "text/plain": [
       "      fit_time  score_time  test_score model\n",
       "0    30.627971    2.487172    0.990084   SVM\n",
       "1    30.627971    2.487172    0.990084   SVM\n",
       "2    34.594054    2.659682    0.984675   SVM\n",
       "3    35.928166    2.448558    0.988281   SVM\n",
       "4    35.928166    2.448558    0.988281   SVM\n",
       "..         ...         ...         ...   ...\n",
       "175   0.000000    0.000000    0.952524   MNB\n",
       "176   0.007133    0.000000    0.937500   MNB\n",
       "177   0.000000    0.000000    0.954026   MNB\n",
       "178   0.000000    0.000000    0.952524   MNB\n",
       "179   0.007051    0.000000    0.960938   MNB\n",
       "\n",
       "[180 rows x 4 columns]"
      ]
     },
     "execution_count": 68,
     "metadata": {},
     "output_type": "execute_result"
    }
   ],
   "source": [
    "#checking for sampled df\n",
    "bootstrap_df"
   ]
  },
  {
   "cell_type": "code",
   "execution_count": 69,
   "id": "5f26818d-2237-4e90-a998-b02544858a6d",
   "metadata": {},
   "outputs": [
    {
     "data": {
      "text/plain": [
       "model\n",
       "KNN       0.542\n",
       "MNB       0.953\n",
       "LogReg    0.976\n",
       "SVM       0.988\n",
       "XGB       0.988\n",
       "RF        0.992\n",
       "Name: test_score, dtype: float64"
      ]
     },
     "execution_count": 69,
     "metadata": {},
     "output_type": "execute_result"
    }
   ],
   "source": [
    "#sorting models based on accuracy\n",
    "bootstrap_df.groupby(by = \"model\")[\"test_score\"].median().round(3).sort_values()"
   ]
  },
  {
   "cell_type": "code",
   "execution_count": 70,
   "id": "b0bb9bc3-cd37-4a3f-bef2-5750afe399ab",
   "metadata": {},
   "outputs": [],
   "source": [
    "#storing sorted models based on accuracy scores\n",
    "index_score = bootstrap_df.groupby(by = \"model\")[\"test_score\"].median().round(3).sort_values().index"
   ]
  },
  {
   "cell_type": "code",
   "execution_count": 71,
   "id": "e63d3d1b-5768-4a79-b898-214260c03b7b",
   "metadata": {},
   "outputs": [
    {
     "data": {
      "text/plain": [
       "Index(['KNN', 'MNB', 'LogReg', 'SVM', 'XGB', 'RF'], dtype='object', name='model')"
      ]
     },
     "execution_count": 71,
     "metadata": {},
     "output_type": "execute_result"
    }
   ],
   "source": [
    "#checking sorted models\n",
    "index_score"
   ]
  },
  {
   "cell_type": "code",
   "execution_count": 72,
   "id": "f1e019ba-9038-4951-9c1c-6c87b636c6a3",
   "metadata": {},
   "outputs": [
    {
     "data": {
      "text/plain": [
       "model\n",
       "KNN        0.001\n",
       "MNB        0.007\n",
       "LogReg     0.102\n",
       "XGB        1.205\n",
       "RF         9.778\n",
       "SVM       34.594\n",
       "Name: fit_time, dtype: float64"
      ]
     },
     "execution_count": 72,
     "metadata": {},
     "output_type": "execute_result"
    }
   ],
   "source": [
    "#sorting models based on fitting time\n",
    "bootstrap_df.groupby(by = \"model\")[\"fit_time\"].median().round(3).sort_values()"
   ]
  },
  {
   "cell_type": "code",
   "execution_count": 73,
   "id": "9767f1d7-57d8-4155-b31f-e5466144739e",
   "metadata": {},
   "outputs": [],
   "source": [
    "#storing sorted models based on fit time\n",
    "index_time = bootstrap_df.groupby(by = \"model\")[\"fit_time\"].median().round(3).sort_values().index"
   ]
  },
  {
   "cell_type": "code",
   "execution_count": 74,
   "id": "4a79af7d-e08f-4942-8993-486bcd483557",
   "metadata": {},
   "outputs": [
    {
     "data": {
      "text/plain": [
       "Index(['KNN', 'MNB', 'LogReg', 'XGB', 'RF', 'SVM'], dtype='object', name='model')"
      ]
     },
     "execution_count": 74,
     "metadata": {},
     "output_type": "execute_result"
    }
   ],
   "source": [
    "#checking sorted models\n",
    "index_time"
   ]
  },
  {
   "cell_type": "code",
   "execution_count": 75,
   "id": "08c8f47e-9724-4e83-994a-180b3171d221",
   "metadata": {},
   "outputs": [
    {
     "data": {
      "image/png": "[encoded data removed]",
      "text/plain": [
       "<Figure size 600x500 with 1 Axes>"
      ]
     },
     "metadata": {},
     "output_type": "display_data"
    }
   ],
   "source": [
    "#boxplot of models based on accuracy scores\n",
    "plt.figure(figsize=(6, 5))\n",
    "sns.set(font_scale=1.5)\n",
    "sns.boxplot(bootstrap_df, x = \"model\", y = \"test_score\", order = index_score)\n",
    "# plt.legend([\"Accuracy\"], bbox_to_anchor=(1.05, 1), loc=2, borderaxespad=0.)\n",
    "plt.title('Comparison of Model by Classification Metric');"
   ]
  },
  {
   "cell_type": "code",
   "execution_count": 76,
   "id": "75885c9c-b85e-49f6-9d27-a16138ac75d8",
   "metadata": {},
   "outputs": [
    {
     "data": {
      "image/png": "[encoded data removed]",
      "text/plain": [
       "<Figure size 600x500 with 1 Axes>"
      ]
     },
     "metadata": {},
     "output_type": "display_data"
    }
   ],
   "source": [
    "#boxplot of models based on fit times\n",
    "plt.figure(figsize=(6, 5))\n",
    "sns.set(font_scale=1.5)\n",
    "sns.boxplot(bootstrap_df, x = \"model\", y = \"fit_time\", order = index_time)\n",
    "# plt.legend([\"Accuracy\"], bbox_to_anchor=(1.05, 1), loc=2, borderaxespad=0.)\n",
    "plt.title('Comparison of Model by Fit Time');"
   ]
  },
  {
   "cell_type": "markdown",
   "id": "751a19a7-babb-4583-9e1c-3a883624f435",
   "metadata": {},
   "source": [
    "## Trying a different way to plot models based on accuracy and fit times"
   ]
  },
  {
   "cell_type": "code",
   "execution_count": 77,
   "id": "95f2297f-9644-4b6a-99ee-1def1e65edcb",
   "metadata": {},
   "outputs": [],
   "source": [
    "#converting bootstrapped df into long format\n",
    "results_long = pd.melt(bootstrap_df, id_vars=['model'], var_name='metrics', value_name='values')"
   ]
  },
  {
   "cell_type": "code",
   "execution_count": 78,
   "id": "b3e1f3dd-08fc-4f81-8d7c-b6d66b3eedb3",
   "metadata": {},
   "outputs": [
    {
     "data": {
      "text/html": [
       "<div>\n",
       "<style scoped>\n",
       "    .dataframe tbody tr th:only-of-type {\n",
       "        vertical-align: middle;\n",
       "    }\n",
       "\n",
       "    .dataframe tbody tr th {\n",
       "        vertical-align: top;\n",
       "    }\n",
       "\n",
       "    .dataframe thead th {\n",
       "        text-align: right;\n",
       "    }\n",
       "</style>\n",
       "<table border=\"1\" class=\"dataframe\">\n",
       "  <thead>\n",
       "    <tr style=\"text-align: right;\">\n",
       "      <th></th>\n",
       "      <th>model</th>\n",
       "      <th>metrics</th>\n",
       "      <th>values</th>\n",
       "    </tr>\n",
       "  </thead>\n",
       "  <tbody>\n",
       "    <tr>\n",
       "      <th>0</th>\n",
       "      <td>SVM</td>\n",
       "      <td>fit_time</td>\n",
       "      <td>30.627971</td>\n",
       "    </tr>\n",
       "    <tr>\n",
       "      <th>1</th>\n",
       "      <td>SVM</td>\n",
       "      <td>fit_time</td>\n",
       "      <td>30.627971</td>\n",
       "    </tr>\n",
       "    <tr>\n",
       "      <th>2</th>\n",
       "      <td>SVM</td>\n",
       "      <td>fit_time</td>\n",
       "      <td>34.594054</td>\n",
       "    </tr>\n",
       "    <tr>\n",
       "      <th>3</th>\n",
       "      <td>SVM</td>\n",
       "      <td>fit_time</td>\n",
       "      <td>35.928166</td>\n",
       "    </tr>\n",
       "    <tr>\n",
       "      <th>4</th>\n",
       "      <td>SVM</td>\n",
       "      <td>fit_time</td>\n",
       "      <td>35.928166</td>\n",
       "    </tr>\n",
       "    <tr>\n",
       "      <th>...</th>\n",
       "      <td>...</td>\n",
       "      <td>...</td>\n",
       "      <td>...</td>\n",
       "    </tr>\n",
       "    <tr>\n",
       "      <th>535</th>\n",
       "      <td>MNB</td>\n",
       "      <td>test_score</td>\n",
       "      <td>0.952524</td>\n",
       "    </tr>\n",
       "    <tr>\n",
       "      <th>536</th>\n",
       "      <td>MNB</td>\n",
       "      <td>test_score</td>\n",
       "      <td>0.937500</td>\n",
       "    </tr>\n",
       "    <tr>\n",
       "      <th>537</th>\n",
       "      <td>MNB</td>\n",
       "      <td>test_score</td>\n",
       "      <td>0.954026</td>\n",
       "    </tr>\n",
       "    <tr>\n",
       "      <th>538</th>\n",
       "      <td>MNB</td>\n",
       "      <td>test_score</td>\n",
       "      <td>0.952524</td>\n",
       "    </tr>\n",
       "    <tr>\n",
       "      <th>539</th>\n",
       "      <td>MNB</td>\n",
       "      <td>test_score</td>\n",
       "      <td>0.960938</td>\n",
       "    </tr>\n",
       "  </tbody>\n",
       "</table>\n",
       "<p>540 rows × 3 columns</p>\n",
       "</div>"
      ],
      "text/plain": [
       "    model     metrics     values\n",
       "0     SVM    fit_time  30.627971\n",
       "1     SVM    fit_time  30.627971\n",
       "2     SVM    fit_time  34.594054\n",
       "3     SVM    fit_time  35.928166\n",
       "4     SVM    fit_time  35.928166\n",
       "..    ...         ...        ...\n",
       "535   MNB  test_score   0.952524\n",
       "536   MNB  test_score   0.937500\n",
       "537   MNB  test_score   0.954026\n",
       "538   MNB  test_score   0.952524\n",
       "539   MNB  test_score   0.960938\n",
       "\n",
       "[540 rows x 3 columns]"
      ]
     },
     "execution_count": 78,
     "metadata": {},
     "output_type": "execute_result"
    }
   ],
   "source": [
    "#checking long format df\n",
    "results_long"
   ]
  },
  {
   "cell_type": "code",
   "execution_count": 79,
   "id": "6ef5e900-1802-4a7c-a942-4d538670e1c2",
   "metadata": {},
   "outputs": [
    {
     "data": {
      "text/plain": [
       "MultiIndex([(   'KNN', 'test_score'),\n",
       "            (   'MNB', 'test_score'),\n",
       "            ('LogReg', 'test_score'),\n",
       "            (   'SVM', 'test_score'),\n",
       "            (   'XGB', 'test_score'),\n",
       "            (    'RF', 'test_score')],\n",
       "           names=['model', 'metrics'])"
      ]
     },
     "execution_count": 79,
     "metadata": {},
     "output_type": "execute_result"
    }
   ],
   "source": [
    "#sorting models based on accuracy\n",
    "results_long[results_long[\"metrics\"] == \"test_score\"].groupby(by = [\"model\", \"metrics\"]).median().round(3).sort_values(by = \"values\").index"
   ]
  },
  {
   "cell_type": "code",
   "execution_count": 80,
   "id": "6462a7c2-8acf-4e0d-9de7-c9734c3b0320",
   "metadata": {},
   "outputs": [],
   "source": [
    "#storing sorted models \n",
    "index_score = results_long[results_long[\"metrics\"] == \"test_score\"].groupby(by = [\"model\", \"metrics\"]).median().round(3).sort_values(by = \"values\").index"
   ]
  },
  {
   "cell_type": "code",
   "execution_count": 81,
   "id": "0014775d-3367-4156-a9c8-a84dbfd95a6f",
   "metadata": {},
   "outputs": [
    {
     "data": {
      "text/plain": [
       "MultiIndex([(   'KNN', 'test_score'),\n",
       "            (   'MNB', 'test_score'),\n",
       "            ('LogReg', 'test_score'),\n",
       "            (   'SVM', 'test_score'),\n",
       "            (   'XGB', 'test_score'),\n",
       "            (    'RF', 'test_score')],\n",
       "           names=['model', 'metrics'])"
      ]
     },
     "execution_count": 81,
     "metadata": {},
     "output_type": "execute_result"
    }
   ],
   "source": [
    "#checking sorted models\n",
    "index_score"
   ]
  },
  {
   "cell_type": "code",
   "execution_count": 82,
   "id": "2c8ae9d4-482d-4adb-80d2-16c6f577a237",
   "metadata": {},
   "outputs": [
    {
     "data": {
      "text/plain": [
       "Index(['KNN', 'MNB', 'LogReg', 'SVM', 'XGB', 'RF'], dtype='object', name='model')"
      ]
     },
     "execution_count": 82,
     "metadata": {},
     "output_type": "execute_result"
    }
   ],
   "source": [
    "#dropping level from multiindex\n",
    "index_score.droplevel(1)"
   ]
  },
  {
   "cell_type": "code",
   "execution_count": 83,
   "id": "f61cb8b3-b2f0-4c4f-9c83-2e7530b3d012",
   "metadata": {},
   "outputs": [
    {
     "data": {
      "text/plain": [
       "MultiIndex([(   'KNN', 'fit_time'),\n",
       "            (   'MNB', 'fit_time'),\n",
       "            ('LogReg', 'fit_time'),\n",
       "            (   'XGB', 'fit_time'),\n",
       "            (    'RF', 'fit_time'),\n",
       "            (   'SVM', 'fit_time')],\n",
       "           names=['model', 'metrics'])"
      ]
     },
     "execution_count": 83,
     "metadata": {},
     "output_type": "execute_result"
    }
   ],
   "source": [
    "#sorting models based on fit times\n",
    "results_long[results_long[\"metrics\"] == \"fit_time\"].groupby(by = [\"model\", \"metrics\"]).median().round(3).sort_values(by = \"values\").index"
   ]
  },
  {
   "cell_type": "code",
   "execution_count": 84,
   "id": "2a7148f7-3fe1-4638-9035-5868a2a84658",
   "metadata": {},
   "outputs": [],
   "source": [
    "#storing sorted models \n",
    "index_time = results_long[results_long[\"metrics\"] == \"fit_time\"].groupby(by = [\"model\", \"metrics\"]).median().round(3).sort_values(by = \"values\").index"
   ]
  },
  {
   "cell_type": "code",
   "execution_count": 85,
   "id": "c1fdaa84-657b-4c2d-b38d-11b091ad4bb1",
   "metadata": {},
   "outputs": [
    {
     "data": {
      "text/plain": [
       "MultiIndex([(   'KNN', 'fit_time'),\n",
       "            (   'MNB', 'fit_time'),\n",
       "            ('LogReg', 'fit_time'),\n",
       "            (   'XGB', 'fit_time'),\n",
       "            (    'RF', 'fit_time'),\n",
       "            (   'SVM', 'fit_time')],\n",
       "           names=['model', 'metrics'])"
      ]
     },
     "execution_count": 85,
     "metadata": {},
     "output_type": "execute_result"
    }
   ],
   "source": [
    "#checking sorted models\n",
    "index_time"
   ]
  },
  {
   "cell_type": "code",
   "execution_count": 86,
   "id": "183e5895-b53c-4b66-90e5-b46447606a6e",
   "metadata": {},
   "outputs": [
    {
     "data": {
      "text/plain": [
       "Index(['KNN', 'MNB', 'LogReg', 'XGB', 'RF', 'SVM'], dtype='object', name='model')"
      ]
     },
     "execution_count": 86,
     "metadata": {},
     "output_type": "execute_result"
    }
   ],
   "source": [
    "#dropping level from multiindex\n",
    "index_time.droplevel(1)"
   ]
  },
  {
   "cell_type": "code",
   "execution_count": 87,
   "id": "e85bb162-4279-49ea-8406-3cc1306845dc",
   "metadata": {},
   "outputs": [],
   "source": [
    "#PERFORMANCE METRICS\n",
    "results_long_nofit = results_long.loc[results_long['metrics']==\"test_score\"] # get df without fit data"
   ]
  },
  {
   "cell_type": "code",
   "execution_count": 88,
   "id": "49c68fa1-727c-4195-a1f1-e3c27dc55c46",
   "metadata": {},
   "outputs": [
    {
     "data": {
      "text/plain": [
       "(180, 3)"
      ]
     },
     "execution_count": 88,
     "metadata": {},
     "output_type": "execute_result"
    }
   ],
   "source": [
    "#checking shape of accuracy data\n",
    "results_long_nofit.shape"
   ]
  },
  {
   "cell_type": "code",
   "execution_count": 89,
   "id": "4b8f6835-b339-4400-a7ff-3d708931fa91",
   "metadata": {},
   "outputs": [],
   "source": [
    "## TIME METRICS\n",
    "results_long_fit = results_long.loc[results_long['metrics'] == \"fit_time\"] # df with fit data"
   ]
  },
  {
   "cell_type": "code",
   "execution_count": 90,
   "id": "47438dbe-4a33-426b-86ce-6d30d93e183e",
   "metadata": {},
   "outputs": [
    {
     "data": {
      "text/plain": [
       "(180, 3)"
      ]
     },
     "execution_count": 90,
     "metadata": {},
     "output_type": "execute_result"
    }
   ],
   "source": [
    "#checking shape of fit time data\n",
    "results_long_fit.shape"
   ]
  },
  {
   "cell_type": "code",
   "execution_count": 91,
   "id": "0ff5b734-96ea-481a-9457-02286c1eb4ec",
   "metadata": {},
   "outputs": [
    {
     "data": {
      "image/png": "[encoded data removed]",
      "text/plain": [
       "<Figure size 600x500 with 1 Axes>"
      ]
     },
     "metadata": {},
     "output_type": "display_data"
    }
   ],
   "source": [
    "#plotting boxplots of models based on accuracy scores\n",
    "import matplotlib.pyplot as plt\n",
    "import seaborn as sns\n",
    "plt.figure(figsize=(6, 5))\n",
    "sns.set(font_scale=1.5)\n",
    "g = sns.boxplot(x=\"model\", y=\"values\", hue=\"metrics\", data=results_long_nofit, palette=\"Set3\", order = index_score.droplevel(1))\n",
    "plt.legend(bbox_to_anchor=(1.05, 1), loc=2, borderaxespad=0.)\n",
    "plt.title('Comparison of Model by Accuracy Scores');"
   ]
  },
  {
   "cell_type": "code",
   "execution_count": 92,
   "id": "06b14119-85e8-4afb-90dd-4e8bbd8b1a3f",
   "metadata": {},
   "outputs": [
    {
     "data": {
      "image/png": "[encoded data removed]",
      "text/plain": [
       "<Figure size 600x500 with 1 Axes>"
      ]
     },
     "metadata": {},
     "output_type": "display_data"
    }
   ],
   "source": [
    "plt.figure(figsize=(6,5))\n",
    "sns.set(font_scale=1.5)\n",
    "g = sns.boxplot(x=\"model\", y=\"values\", hue=\"metrics\", data=results_long_fit, palette=\"Set3\", order = index_time.droplevel(1))\n",
    "plt.legend(bbox_to_anchor=(1.05, 1), loc=2, borderaxespad=0.)\n",
    "plt.title('Comparison of Model by Fit Time');"
   ]
  },
  {
   "cell_type": "code",
   "execution_count": 93,
   "id": "c3f5ac70-7bde-446c-b6de-434280c8741b",
   "metadata": {},
   "outputs": [],
   "source": [
    "tock = perf_counter()"
   ]
  },
  {
   "cell_type": "code",
   "execution_count": 94,
   "id": "534532f3-edc0-43ed-8337-d2fff9b49d62",
   "metadata": {},
   "outputs": [
    {
     "name": "stdout",
     "output_type": "stream",
     "text": [
      "Time taken to run this notebook: 7.22 mins\n"
     ]
    }
   ],
   "source": [
    "print(f'Time taken to run this notebook: {round((tock-tick)/60, 2)} mins')"
   ]
  }
 ],
 "metadata": {
  "kernelspec": {
   "display_name": "Python 3 (ipykernel)",
   "language": "python",
   "name": "python3"
  },
  "language_info": {
   "codemirror_mode": {
    "name": "ipython",
    "version": 3
   },
   "file_extension": ".py",
   "mimetype": "text/x-python",
   "name": "python",
   "nbconvert_exporter": "python",
   "pygments_lexer": "ipython3",
   "version": "3.11.0"
  },
  "toc-autonumbering": false,
  "toc-showcode": false,
  "toc-showmarkdowntxt": false
 },
 "nbformat": 4,
 "nbformat_minor": 5
}
